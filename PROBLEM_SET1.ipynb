{
 "cells": [
  {
   "cell_type": "markdown",
   "id": "0e7b3262-2d00-4599-86a1-59e86b9fdf5c",
   "metadata": {},
   "source": [
    "# Problem Set 1 BDAT 1004 – Data Programming"
   ]
  },
  {
   "cell_type": "markdown",
   "id": "63469f85-f299-41d9-a35b-cec1fc8ba82d",
   "metadata": {},
   "source": [
    "# Question 1 - Solution"
   ]
  },
  {
   "cell_type": "code",
   "execution_count": 1,
   "id": "e97446a4-9102-49c5-8b55-4f21cd02c28d",
   "metadata": {},
   "outputs": [
    {
     "name": "stdout",
     "output_type": "stream",
     "text": [
      "<class 'int'>\n",
      "<class 'float'>\n",
      "<class 'bool'>\n",
      "<class 'str'>\n",
      "<class 'int'>\n",
      "<class 'str'>\n",
      "<class 'str'>\n",
      "<class 'float'>\n",
      "<class 'int'>\n",
      "<class 'set'>\n",
      "<class 'bool'>\n",
      "<class 'float'>\n"
     ]
    }
   ],
   "source": [
    "print(type(5))\n",
    "print(type(5.0))\n",
    "print(type(5 > 1))\n",
    "print(type('5'))\n",
    "print(type(5*2))\n",
    "print(type('5'*2))\n",
    "print(type('5'+'2'))\n",
    "print(type(5/2))\n",
    "print(type(5%2))\n",
    "print(type({5,2,1}))\n",
    "print(type(5 == 3))\n",
    "\n",
    "\n",
    "import math\n",
    "print(type(math.pi))"
   ]
  },
  {
   "cell_type": "markdown",
   "id": "74a0ed21-8249-4501-a780-ebccdc9c8d64",
   "metadata": {},
   "source": [
    "Hence the variable types are integer, float, boolean, string, integer, string, string, float, inetger, set, boolean, and float respectively."
   ]
  },
  {
   "cell_type": "markdown",
   "id": "cc3e207f-2e3f-4274-ad85-b50918be0323",
   "metadata": {},
   "source": [
    "# Question 2 - Solution"
   ]
  },
  {
   "cell_type": "markdown",
   "id": "d62f3733-3da3-492a-afc2-b9ac7e479631",
   "metadata": {},
   "source": [
    "(a)"
   ]
  },
  {
   "cell_type": "code",
   "execution_count": 3,
   "id": "59c2f9c7-88b9-4b45-9853-0f641a12ba32",
   "metadata": {},
   "outputs": [
    {
     "name": "stdout",
     "output_type": "stream",
     "text": [
      "34\n",
      "True\n"
     ]
    }
   ],
   "source": [
    "a = 'Supercalifragilisticexpialidocious'\n",
    "print(len(a))\n",
    "print('ice' in a)"
   ]
  },
  {
   "cell_type": "markdown",
   "id": "714e4d53-7663-4f62-aafd-e2d23dd5a578",
   "metadata": {},
   "source": [
    "(b) For lenghts, I evaluate all three words serperately "
   ]
  },
  {
   "cell_type": "code",
   "execution_count": 4,
   "id": "36d5d847-3f22-49fe-965b-7ed0005c082e",
   "metadata": {},
   "outputs": [
    {
     "name": "stdout",
     "output_type": "stream",
     "text": [
      "34\n",
      "27\n",
      "34\n"
     ]
    }
   ],
   "source": [
    "x = 'Supercalifragilisticexpialidocious'\n",
    "print(len(x))\n",
    "y = 'Honorificabilitudinitatibus'\n",
    "print(len(y))\n",
    "z = 'Bababadalgharaghtakamminarronnkonn'\n",
    "print(len(z))"
   ]
  },
  {
   "cell_type": "markdown",
   "id": "ac5a5282-d23c-4284-9a0f-9c075442fc0b",
   "metadata": {},
   "source": [
    "hence 'Supercalifragilisticexpialidocious' and 'Bababadalgharaghtakamminarronnkonn' are the longest words (34)"
   ]
  },
  {
   "cell_type": "markdown",
   "id": "7c070b02-3337-4e09-b565-cdec50b71149",
   "metadata": {},
   "source": [
    "(c)"
   ]
  },
  {
   "cell_type": "code",
   "execution_count": 5,
   "id": "8dedbba6-68a4-43c5-91a1-c4361abb5aa4",
   "metadata": {},
   "outputs": [
    {
     "name": "stdout",
     "output_type": "stream",
     "text": [
      "0\n",
      "1\n",
      "2\n",
      "3\n",
      "4\n",
      "5\n",
      "6\n"
     ]
    }
   ],
   "source": [
    "lst = ['Berlioz', 'Borodin', 'Brian', 'Bartok', 'Bellini', 'Buxtehude', 'Bernstein']\n",
    "print(lst.index('Berlioz'))\n",
    "print(lst.index('Borodin'))\n",
    "print(lst.index('Brian'))\n",
    "print(lst.index('Bartok'))\n",
    "print(lst.index('Bellini'))\n",
    "print(lst.index('Buxtehude'))\n",
    "print(lst.index('Bernstein'))"
   ]
  },
  {
   "cell_type": "markdown",
   "id": "96b8a499-6bcd-4838-9b9b-c6e889e5bc0e",
   "metadata": {},
   "source": [
    "Hence, Berlioz comes first and Bernstein comes last"
   ]
  },
  {
   "cell_type": "markdown",
   "id": "62fdca87-56fa-450d-8e8c-d8a4fbaf2343",
   "metadata": {},
   "source": [
    "# Question 3 - Solution"
   ]
  },
  {
   "cell_type": "code",
   "execution_count": 8,
   "id": "38bd82a9-6a12-4514-baab-13a7f504b394",
   "metadata": {},
   "outputs": [
    {
     "data": {
      "text/plain": [
       "1.7320508075688772"
      ]
     },
     "execution_count": 8,
     "metadata": {},
     "output_type": "execute_result"
    }
   ],
   "source": [
    "\n",
    "import math\n",
    "\n",
    "\n",
    "def triangleArea(a, b, c):\n",
    "    s = (a + b + c) / 2\n",
    "    res = math.sqrt(s * (s - a) * (s - b) * (s - c))\n",
    "    return(res)\n",
    "\n",
    "triangleArea(2, 2, 2)"
   ]
  },
  {
   "cell_type": "markdown",
   "id": "e8c7bf17-0d1a-4241-a98c-87687f827e89",
   "metadata": {},
   "source": [
    "# Question 4 - Solution"
   ]
  },
  {
   "cell_type": "code",
   "execution_count": 32,
   "id": "a1b5506a-009a-44d9-a8b0-7b9c78cc3ca0",
   "metadata": {},
   "outputs": [
    {
     "name": "stdin",
     "output_type": "stream",
     "text": [
      "number of elements to be stored in the array:  5\n"
     ]
    },
    {
     "name": "stdout",
     "output_type": "stream",
     "text": [
      "Input 5 elements in the array:\n"
     ]
    },
    {
     "name": "stdin",
     "output_type": "stream",
     "text": [
      "element - 0 :  25\n",
      "element - 1 :  47\n",
      "element - 2 :  42\n",
      "element - 3 :  56\n",
      "element - 4 :  32\n"
     ]
    },
    {
     "name": "stdout",
     "output_type": "stream",
     "text": [
      "The Even elements are:\n",
      "42 56 32 \n",
      "The Odd elements are:\n",
      "25 47 "
     ]
    }
   ],
   "source": [
    "def numbers():\n",
    "    # first to demand the number of elements to be stored in the array\n",
    "    n = int(input(\"number of elements to be stored in the array: \"))\n",
    "    \n",
    "    # The array of integers are defined as:\n",
    "    elements = []\n",
    "    even_elements = []\n",
    "    odd_elements = []\n",
    "    \n",
    "    # Now to demand elements to be stored in arrays\n",
    "    print(f\"Input {n} elements in the array:\")\n",
    "    for i in range(n):\n",
    "        element = int(input(f\"element - {i} : \"))\n",
    "        elements.append(element)\n",
    "    \n",
    "    # Then now we append into odd and even number groups\n",
    "    for element in elements:\n",
    "        if element % 2 == 0:\n",
    "            even_elements.append(element)\n",
    "        else:\n",
    "            odd_elements.append(element)\n",
    "    \n",
    "    print(\"The Even elements are:\")\n",
    "    for even in even_elements:\n",
    "        print(even, end=\" \")\n",
    "    \n",
    "    print(\"\\nThe Odd elements are:\")\n",
    "    for odd in odd_elements:\n",
    "        print(odd, end=\" \")\n",
    "\n",
    "\n",
    "numbers()"
   ]
  },
  {
   "cell_type": "markdown",
   "id": "0e7c0a67-e369-43c9-9087-9c518b288726",
   "metadata": {},
   "source": [
    "# Question 5 -SOLUTION"
   ]
  },
  {
   "cell_type": "markdown",
   "id": "b5b2cf96-a97e-4ed9-a601-900b5cbcb2f3",
   "metadata": {},
   "source": [
    "(a)"
   ]
  },
  {
   "cell_type": "markdown",
   "id": "02bca4c3-4757-4a93-ba32-b65990f79ec3",
   "metadata": {},
   "source": [
    "The point x,y can only lie between the two points if x is greater than x1 and less than x2, and y is greater than y1 and less than y2\n"
   ]
  },
  {
   "cell_type": "code",
   "execution_count": 10,
   "id": "7ad8d315-6157-4af7-ada8-f4ba97af1cfb",
   "metadata": {},
   "outputs": [
    {
     "name": "stdout",
     "output_type": "stream",
     "text": [
      "True\n",
      "False\n"
     ]
    }
   ],
   "source": [
    "# the function inside is defined \n",
    "\n",
    "def inside(x, y, x1, y1, x2, y2):\n",
    "    return x1 < x < x2 and y1 < y < y2\n",
    "\n",
    "#If inside => inside(1,1,0,0,2,3)\n",
    "\n",
    "print(inside(1, 1, 0, 0, 2, 3))\n",
    "\n",
    "#If inside => inside(-1,-1,0,0,2,3)\n",
    "print(inside(-1, -1, 0, 0, 2, 3))\n"
   ]
  },
  {
   "cell_type": "markdown",
   "id": "f6b5a86e-a602-4311-9daa-3313eb644232",
   "metadata": {},
   "source": [
    "(b) "
   ]
  },
  {
   "cell_type": "markdown",
   "id": "005e407c-2ba8-4919-b162-8182c95d2942",
   "metadata": {},
   "source": [
    "Using the inside function above , for (1,1) to be present in both resctangles, the expression below should return a True value."
   ]
  },
  {
   "cell_type": "code",
   "execution_count": 11,
   "id": "16f12d41-ba44-40d2-a53a-360715d2c81d",
   "metadata": {},
   "outputs": [
    {
     "name": "stdout",
     "output_type": "stream",
     "text": [
      "False\n"
     ]
    }
   ],
   "source": [
    "print(inside(1, 1, 0.3, 0.5, 1.1, 0.7) and (inside(1, 1, 0.5, 0.2, 1.1, 2)))"
   ]
  },
  {
   "cell_type": "markdown",
   "id": "b1f45e25-5440-4dc4-91c2-d7a4f1e92d18",
   "metadata": {},
   "source": [
    "Since False, point (1,1) does not lie in the two rectangles"
   ]
  },
  {
   "cell_type": "markdown",
   "id": "71a5a107-9bd3-4af3-9a66-735574ea66b0",
   "metadata": {},
   "source": [
    "# Question 6 -SOLUTION"
   ]
  },
  {
   "cell_type": "code",
   "execution_count": 33,
   "id": "2e30f90e-67d6-41df-9e52-a112f53aa8b8",
   "metadata": {},
   "outputs": [
    {
     "name": "stdout",
     "output_type": "stream",
     "text": [
      "appyhay\n",
      "encilpay\n"
     ]
    }
   ],
   "source": [
    "def pig(word):\n",
    "    word = word.lower()    #This converts the words in function pig into lower case\n",
    "\n",
    "    #Representing the vowels as string variable:\n",
    "    vowels = 'aeiou'   \n",
    "    \n",
    "    # Now if the word starts with a vowel then:\n",
    "    if word[0] in vowels:\n",
    "        return word + 'way'\n",
    "    #If the word starts with a consonant, then:\n",
    "    else:\n",
    "        return word[1:] + word[0] + 'ay'\n",
    "\n",
    "\n",
    "\n",
    "# To test function:\n",
    "print(pig('happy'))\n",
    "print(pig('pencil'))"
   ]
  },
  {
   "cell_type": "markdown",
   "id": "b16b7243-3cb3-4304-b939-07593ff4ead2",
   "metadata": {},
   "source": [
    " # Question 7 -SOLUTION"
   ]
  },
  {
   "cell_type": "code",
   "execution_count": 44,
   "id": "9eeb8658-bd1c-4ae5-a7f1-85a4fc416d54",
   "metadata": {},
   "outputs": [
    {
     "name": "stdout",
     "output_type": "stream",
     "text": [
      "There are 15 patients of blood type A.\n",
      "There is one patient of blood type B.\n",
      "There are 13 patients of blood type AB.\n",
      "There are 15 patients of blood type O.\n",
      "There are no patients of blood type OO.\n"
     ]
    }
   ],
   "source": [
    "def bldcount(dataset):\n",
    "    blood_counts = {'A': 0, 'B': 0, 'AB': 0, 'O': 0, 'OO': 0}\n",
    "    with open(dataset, 'r') as data:\n",
    "        contents = data.read()\n",
    "        blood_types = contents.split()\n",
    "        for blood_type in blood_types:\n",
    "            if blood_type in blood_counts:\n",
    "                blood_counts[blood_type] += 1\n",
    "            else:\n",
    "                print(f\"Unknown blood type '{blood_type}' found in the file.\")\n",
    "        for blood_type, count in blood_counts.items():\n",
    "            if count == 1:\n",
    "                print(f\"There is one patient of blood type {blood_type}.\")\n",
    "            elif count > 1:\n",
    "                print(f\"There are {count} patients of blood type {blood_type}.\")\n",
    "            else:\n",
    "                print(f\"There are no patients of blood type {blood_type}.\")\n",
    "\n",
    "bldcount('bloodtype1.txt')\n"
   ]
  },
  {
   "cell_type": "markdown",
   "id": "0d3d045a-d52c-41c8-98da-f2fa93617325",
   "metadata": {},
   "source": [
    " # Question 8 -SOLUTION"
   ]
  },
  {
   "cell_type": "code",
   "execution_count": 48,
   "id": "87f75a4b-6d6e-45c4-a8b0-dc97d706117e",
   "metadata": {},
   "outputs": [
    {
     "name": "stdin",
     "output_type": "stream",
     "text": [
      "Enter the currency code:  EUR\n",
      "Enter the amount:  100\n"
     ]
    },
    {
     "name": "stdout",
     "output_type": "stream",
     "text": [
      "122.96544\n"
     ]
    }
   ],
   "source": [
    "def curconv():\n",
    "       \n",
    "        with open('currencies.txt', 'r') as file:\n",
    "            lines = file.readlines()\n",
    "\n",
    "       \n",
    "        currency_rates = {}\n",
    "\n",
    "  \n",
    "        for line in lines:\n",
    "            parts = line.split()\n",
    "            code = parts[0]\n",
    "            rate = float(parts[1])\n",
    "            currency_rates[code] = rate\n",
    "\n",
    "        currency = input(\"Enter the currency code: \").upper()\n",
    "        amount = float(input(\"Enter the amount: \"))\n",
    "\n",
    "        \n",
    "        if currency in currency_rates:\n",
    "            # Convert the amount to US dollars using the corresponding rate\n",
    "            usd_amount = amount * currency_rates[currency]\n",
    "            return usd_amount\n",
    "        else:\n",
    "            print(f\"Currency '{currency}' is not found in the file.\")\n",
    "            return None\n",
    "\n",
    "print(curconv())\n"
   ]
  },
  {
   "cell_type": "markdown",
   "id": "f2c48b6f-b723-4d70-9966-525aeaf5679b",
   "metadata": {},
   "source": [
    "For for the Japanese Yen conversion"
   ]
  },
  {
   "cell_type": "code",
   "execution_count": 49,
   "id": "5471b7b3-2cc1-427b-b416-9ef820448224",
   "metadata": {},
   "outputs": [
    {
     "name": "stdin",
     "output_type": "stream",
     "text": [
      "Enter the currency code:  JPY\n",
      "Enter the amount:  100\n"
     ]
    },
    {
     "name": "stdout",
     "output_type": "stream",
     "text": [
      "1.241401\n"
     ]
    }
   ],
   "source": [
    "def curconv():\n",
    "       \n",
    "        with open('currencies.txt', 'r') as file:\n",
    "            lines = file.readlines()\n",
    "\n",
    "       \n",
    "        currency_rates = {}\n",
    "\n",
    "  \n",
    "        for line in lines:\n",
    "            parts = line.split()\n",
    "            code = parts[0]\n",
    "            rate = float(parts[1])\n",
    "            currency_rates[code] = rate\n",
    "\n",
    "        currency = input(\"Enter the currency code: \").upper()\n",
    "        amount = float(input(\"Enter the amount: \"))\n",
    "\n",
    "        \n",
    "        if currency in currency_rates:\n",
    "            # Convert the amount to US dollars using the corresponding rate\n",
    "            usd_amount = amount * currency_rates[currency]\n",
    "            return usd_amount\n",
    "        else:\n",
    "            print(f\"Currency '{currency}' is not found in the file.\")\n",
    "            return None\n",
    "\n",
    "print(curconv())\n"
   ]
  },
  {
   "cell_type": "markdown",
   "id": "970dd841-e574-41b0-8de7-13cb8a043f16",
   "metadata": {},
   "source": [
    "# QUESTION 9 - SOLUTION"
   ]
  },
  {
   "cell_type": "markdown",
   "id": "3bde4c5d-01fa-4ad4-a9d1-efab307b0cd1",
   "metadata": {},
   "source": [
    "1. Trying to add incompatible variables, as in adding 6 + ‘a’ \n",
    "=> This gives a TypeError, because we cant add a string to an integer.\n",
    "\n",
    "2. Referring to the 12\n",
    "th item of a list that has only 1 \r\n",
    "ite\n",
    "=> It will produce an indexError as we are referring to an item outside the range of the list\n",
    "\n",
    "3. Using a value that is out of range for a functi\n",
    "on’ \r\n",
    "input, such as calling math.sqrt( 1.\n",
    "=> This gives a ValueError as the square root functions input does not take in negataive values.\n",
    "\n",
    "4. Using an undeclared variable, such as \n",
    " rint(x \r\n",
    "when x has not been define=>. This gives a NameError since ware evaluating a variable not previously defined\n",
    "\n",
    "5. Trying to open a file that does not exist, such as \n",
    "mistyping the file name or looking in the wron \r\n",
    "director\n",
    "=> This produces a FileNotFoundError, because the file was not found in a given path y.e   ms"
   ]
  },
  {
   "cell_type": "markdown",
   "id": "c3144fd2-a657-4da7-bf90-95faabeefc2f",
   "metadata": {},
   "source": [
    "# QUESTION 10 - SOLUTION"
   ]
  },
  {
   "cell_type": "code",
   "execution_count": 51,
   "id": "fe6b0404-f7ca-4245-a5f5-6a0d8e6ffc1a",
   "metadata": {},
   "outputs": [
    {
     "name": "stdin",
     "output_type": "stream",
     "text": [
      "Write text here:  The quick red fox got bored and went home.\n"
     ]
    },
    {
     "name": "stdout",
     "output_type": "stream",
     "text": [
      "[1, 1, 1, 3, 5, 1, 1, 2, 1, 0, 1, 0, 1, 2, 4, 0, 1, 2, 0, 3, 1, 0, 1, 1, 0, 0]\n"
     ]
    },
    {
     "name": "stdin",
     "output_type": "stream",
     "text": [
      "Write text here:  apple\n"
     ]
    },
    {
     "name": "stdout",
     "output_type": "stream",
     "text": [
      "[1, 0, 0, 0, 1, 0, 0, 0, 0, 0, 0, 1, 0, 0, 0, 2, 0, 0, 0, 0, 0, 0, 0, 0, 0, 0]\n"
     ]
    }
   ],
   "source": [
    "def frequencies(text):\n",
    "   \n",
    "    letters = 'abcdefghijklmnopqrstuvwxyz'\n",
    "   \n",
    "   \n",
    "    frequency_list = [0] * 26\n",
    "  \n",
    "    text = text.lower()\n",
    "  \n",
    "    for char in text:\n",
    "      \n",
    "        if char in letters:\n",
    "           \n",
    "            index = letters.index(char)\n",
    "            frequency_list[index] += 1\n",
    "   \n",
    "    return frequency_list\n",
    "\n",
    "\n",
    "text1 = input(\"Write text here: \")\n",
    "print(frequencies(text1))\n",
    "text2 = input(\"Write text here: \")\n",
    "print(frequencies(text2))"
   ]
  }
 ],
 "metadata": {
  "kernelspec": {
   "display_name": "Python 3 (ipykernel)",
   "language": "python",
   "name": "python3"
  },
  "language_info": {
   "codemirror_mode": {
    "name": "ipython",
    "version": 3
   },
   "file_extension": ".py",
   "mimetype": "text/x-python",
   "name": "python",
   "nbconvert_exporter": "python",
   "pygments_lexer": "ipython3",
   "version": "3.11.7"
  }
 },
 "nbformat": 4,
 "nbformat_minor": 5
}
